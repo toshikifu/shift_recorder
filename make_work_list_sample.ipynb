{
 "cells": [
  {
   "cell_type": "code",
   "execution_count": 3,
   "metadata": {},
   "outputs": [
    {
     "name": "stderr",
     "output_type": "stream",
     "text": [
      "/var/folders/h1/bmkhcwy16mn7bb26r386dqwc0000gn/T/ipykernel_88720/2976445707.py:36: UserWarning: Boolean Series key will be reindexed to match DataFrame index.\n",
      "  \"day\":str(df[df[\"ID\"]==case_id][df[\"Activity\"]==\"開始\"][\"Time stamp\"].iloc[-1])[:10],\n",
      "/var/folders/h1/bmkhcwy16mn7bb26r386dqwc0000gn/T/ipykernel_88720/2976445707.py:37: UserWarning: Boolean Series key will be reindexed to match DataFrame index.\n",
      "  \"start\":str(df[df[\"ID\"]==case_id][df[\"Activity\"]==\"開始\"][\"Time stamp\"].iloc[-1])[-8:],\n",
      "/var/folders/h1/bmkhcwy16mn7bb26r386dqwc0000gn/T/ipykernel_88720/2976445707.py:38: UserWarning: Boolean Series key will be reindexed to match DataFrame index.\n",
      "  \"end\":str(df[df[\"ID\"]==case_id][df[\"Activity\"]==\"終了\"][\"Time stamp\"].iloc[-1])[-8:],\n",
      "/var/folders/h1/bmkhcwy16mn7bb26r386dqwc0000gn/T/ipykernel_88720/2976445707.py:39: UserWarning: Boolean Series key will be reindexed to match DataFrame index.\n",
      "  \"feedback\":str(df[df[\"ID\"]==case_id][df[\"Activity\"]==\"終了\"][\"Feed back\"].iloc[-1])}\n"
     ]
    }
   ],
   "source": [
    "import pandas as pd\n",
    "import datetime\n",
    "import calendar\n",
    "import dateutil\n",
    "#月の確認\n",
    "month = datetime.datetime.today()\n",
    "month = month - dateutil.relativedelta.relativedelta(months=0)\n",
    "month = month.strftime(\"%Y-%m\")\n",
    "#対象ファイルを指定\n",
    "try:\n",
    "    # fromdesktop = pd.read_csv(\"datas/\"+month+\"_forDesktop.csv\")\n",
    "    fromdesktop = pd.read_csv(\"/Users/toshiki/Downloads/\"+month+\"_forDesktop.csv\")\n",
    "except:\n",
    "    fromdesktop = pd.DataFrame(columns=[\"ID\",\"Activity\",\"Time stamp\",\"Feed back\"])\n",
    "try:\n",
    "    # fromnote = pd.read_csv(\"datas/\"+month+\"_forNote.csv\")\n",
    "    fromnote = pd.read_csv(\"/Users/toshiki/Downloads/\"+month+\"_forNote.csv\")\n",
    "except:\n",
    "    fromnote = pd.DataFrame(columns=[\"ID\",\"Activity\",\"Time stamp\",\"Feed back\"])\n",
    "\n",
    "#出力用DataFrame\n",
    "dd = pd.DataFrame(columns=[\"day\",\"start\",\"end\",\"feedback\"])\n",
    "\n",
    "for df in [fromdesktop,fromnote]:\n",
    "    #ファイルの整形\n",
    "    df[\"Time stamp\"] = pd.to_datetime(df[\"Time stamp\"].str[:16])\n",
    "\n",
    "    #ユニークなcase_idを抽出\n",
    "    case_ids = df[\"ID\"].unique()\n",
    "\n",
    "    #集計\n",
    "    for case_id in case_ids:\n",
    "        if \"取り消し\" in list(df[df[\"ID\"]==case_id][\"Activity\"]):\n",
    "            continue\n",
    "        dd = dd.append({\n",
    "                \"day\":str(df[df[\"ID\"]==case_id][df[\"Activity\"]==\"開始\"][\"Time stamp\"].iloc[-1])[:10],\n",
    "                \"start\":str(df[df[\"ID\"]==case_id][df[\"Activity\"]==\"開始\"][\"Time stamp\"].iloc[-1])[-8:],\n",
    "                \"end\":str(df[df[\"ID\"]==case_id][df[\"Activity\"]==\"終了\"][\"Time stamp\"].iloc[-1])[-8:],\n",
    "                \"feedback\":str(df[df[\"ID\"]==case_id][df[\"Activity\"]==\"終了\"][\"Feed back\"].iloc[-1])}\n",
    "                ,ignore_index=True)\n",
    "\n",
    "#差分計算\n",
    "dd[\"time(min)\"] = (pd.to_datetime(dd[\"end\"]) - pd.to_datetime(dd[\"start\"])).dt.total_seconds()\n",
    "\n",
    "#分表示に\n",
    "dd[\"time(min)\"] = dd[\"time(min)\"]/60\n",
    "\n",
    "#曜日計算\n",
    "dd[\"date\"] = pd.to_datetime(dd[\"day\"]).dt.day_name()\n",
    "\n",
    "#表示順変更\n",
    "dd = dd.reindex(columns=[\"day\",\"date\",\"start\",\"end\",\"time(min)\",\"feedback\"])\n",
    "\n",
    "#==============================================================================\n",
    "\n",
    "now = datetime.datetime.now()\n",
    "month_days = [i+1 for i in range(calendar.monthrange(now.year, now.month)[1])]\n",
    "days = []\n",
    "for day in month_days:\n",
    "    days.append(month+\"-\"+str(day))\n",
    "\n",
    "d_zero = pd.DataFrame(days,columns=[\"day\"])\n",
    "d_zero[\"time(min)\"]=0\n",
    "ddd = dd[[\"day\",\"time(min)\"]]\n",
    "\n",
    "work_list = pd.concat([ddd,d_zero])\n",
    "work_list[\"day\"] = pd.to_datetime(work_list[\"day\"])\n",
    "work_list = work_list.groupby(\"day\")[\"time(min)\"].sum()\n",
    "\n",
    "\n",
    "with pd.ExcelWriter(\"/Users/toshiki/Downloads/\"+month+\"_出勤簿.xlsx\") as writer:\n",
    "    dd.to_excel(writer, sheet_name='勤務履歴')\n",
    "    work_list.to_excel(writer, sheet_name='出勤簿')"
   ]
  },
  {
   "cell_type": "code",
   "execution_count": 7,
   "metadata": {},
   "outputs": [
    {
     "name": "stderr",
     "output_type": "stream",
     "text": [
      "/var/folders/h1/bmkhcwy16mn7bb26r386dqwc0000gn/T/ipykernel_47622/1222791066.py:17: UserWarning: Boolean Series key will be reindexed to match DataFrame index.\n",
      "  dd = dd.append({\"day\":str(df[df[\"ID\"]==case_id][df[\"Activity\"]==\"開始\"][\"Time stamp\"].iloc[-1])[:10],\n",
      "/var/folders/h1/bmkhcwy16mn7bb26r386dqwc0000gn/T/ipykernel_47622/1222791066.py:18: UserWarning: Boolean Series key will be reindexed to match DataFrame index.\n",
      "  \"start\":str(df[df[\"ID\"]==case_id][df[\"Activity\"]==\"開始\"][\"Time stamp\"].iloc[-1])[-8:],\n",
      "/var/folders/h1/bmkhcwy16mn7bb26r386dqwc0000gn/T/ipykernel_47622/1222791066.py:19: UserWarning: Boolean Series key will be reindexed to match DataFrame index.\n",
      "  \"end\":str(df[df[\"ID\"]==case_id][df[\"Activity\"]==\"終了\"][\"Time stamp\"].iloc[-1])[-8:]}\n"
     ]
    },
    {
     "name": "stdout",
     "output_type": "stream",
     "text": [
      "          day     start       end   time\n",
      "0  2022-10-22  22:02:00  22:02:00    0.0\n",
      "1  2022-10-23  09:52:00  11:42:00  110.0\n",
      "2  2022-10-23  12:36:00  14:14:00   98.0\n",
      "3  2022-10-23  15:00:00  15:54:00   54.0\n",
      "4  2022-10-23  17:10:00  17:36:00   26.0\n"
     ]
    }
   ],
   "source": [
    "import pandas as pd\n",
    "import tkinter.filedialog\n",
    "from datetime import datetime\n",
    "\n",
    "#ファイル読み込み\n",
    "df = pd.read_csv(\"/Users/toshiki/Downloads/2022-10_forDesktop.csv\")\n",
    "df[\"Time stamp\"] = pd.to_datetime(df[\"Time stamp\"].str[:16])\n",
    "# df[\"Time stamp\"] = df[\"Time stamp\"].dt.strftime(\"%m-%d-%H:%m\")\n",
    "\n",
    "#ユニークcase_idの抽出\n",
    "case_ids = df[\"ID\"].unique()\n",
    "# print(case_ids)\n",
    "dd = pd.DataFrame(columns=[\"day\",\"start\",\"end\"])\n",
    "for case_id in case_ids:\n",
    "    if \"取り消し\" in list(df[df[\"ID\"]==case_id][\"Activity\"]):\n",
    "        continue\n",
    "    dd = dd.append({\"day\":str(df[df[\"ID\"]==case_id][df[\"Activity\"]==\"開始\"][\"Time stamp\"].iloc[-1])[:10],\n",
    "            \"start\":str(df[df[\"ID\"]==case_id][df[\"Activity\"]==\"開始\"][\"Time stamp\"].iloc[-1])[-8:],\n",
    "            \"end\":str(df[df[\"ID\"]==case_id][df[\"Activity\"]==\"終了\"][\"Time stamp\"].iloc[-1])[-8:]}\n",
    "            ,ignore_index=True)\n",
    "dd[\"time\"]=(pd.to_datetime(dd[\"end\"])-pd.to_datetime(dd[\"start\"])).dt.total_seconds()\n",
    "dd[\"time\"]=dd[\"time\"]/60\n",
    "print(dd.head())\n",
    "dd.to_csv(\"Desktop.csv\",index=False)\n",
    "#[date,曜日,開始時間,終了時間,勤務時間]"
   ]
  },
  {
   "cell_type": "code",
   "execution_count": 5,
   "metadata": {},
   "outputs": [
    {
     "name": "stderr",
     "output_type": "stream",
     "text": [
      "/var/folders/h1/bmkhcwy16mn7bb26r386dqwc0000gn/T/ipykernel_45919/2462763507.py:19: UserWarning: Boolean Series key will be reindexed to match DataFrame index.\n",
      "  dd = dd.append({\"day\":str(df[df[\"ID\"]==case_id][df[\"Activity\"]==\"開始\"][\"Time stamp\"].iloc[-1])[:10],\n",
      "/var/folders/h1/bmkhcwy16mn7bb26r386dqwc0000gn/T/ipykernel_45919/2462763507.py:20: UserWarning: Boolean Series key will be reindexed to match DataFrame index.\n",
      "  \"start\":str(df[df[\"ID\"]==case_id][df[\"Activity\"]==\"開始\"][\"Time stamp\"].iloc[-1])[-8:],\n",
      "/var/folders/h1/bmkhcwy16mn7bb26r386dqwc0000gn/T/ipykernel_45919/2462763507.py:21: UserWarning: Boolean Series key will be reindexed to match DataFrame index.\n",
      "  \"end\":str(df[df[\"ID\"]==case_id][df[\"Activity\"]==\"終了\"][\"Time stamp\"].iloc[-1])[-8:]}\n"
     ]
    }
   ],
   "source": [
    "import pandas as pd\n",
    "import tkinter.filedialog\n",
    "from datetime import datetime\n",
    "\n",
    "#ファイル読み込み\n",
    "template = pd.read_excel(\"勤務管理.xlsx\")\n",
    "# file_pass = tkinter.filedialog.askopenfilenames()\n",
    "df = pd.read_csv(\"/Users/toshiki/Downloads/2022-10_forNote.csv\")\n",
    "df[\"Time stamp\"] = pd.to_datetime(df[\"Time stamp\"].str[:16])\n",
    "# df[\"Time stamp\"] = df[\"Time stamp\"].dt.strftime(\"%m-%d-%H:%m\")\n",
    "# print(df.head())\n",
    "#ユニークcase_idの抽出\n",
    "case_ids = df[\"ID\"].unique()\n",
    "# print(case_ids)\n",
    "dd = pd.DataFrame(columns=[\"day\",\"start\",\"end\"])\n",
    "for case_id in case_ids:\n",
    "    if \"取り消し\" in list(df[df[\"ID\"]==case_id][\"Activity\"]):\n",
    "        continue\n",
    "    dd = dd.append({\"day\":str(df[df[\"ID\"]==case_id][df[\"Activity\"]==\"開始\"][\"Time stamp\"].iloc[-1])[:10],\n",
    "            \"start\":str(df[df[\"ID\"]==case_id][df[\"Activity\"]==\"開始\"][\"Time stamp\"].iloc[-1])[-8:],\n",
    "            \"end\":str(df[df[\"ID\"]==case_id][df[\"Activity\"]==\"終了\"][\"Time stamp\"].iloc[-1])[-8:]}\n",
    "            ,ignore_index=True)\n",
    "dd[\"time\"]=(pd.to_datetime(dd[\"end\"])-pd.to_datetime(dd[\"start\"]))\n",
    "dd.head()\n",
    "dd.to_csv(\"Note.csv\",index=False)\n",
    "#[date,曜日,開始時間,終了時間,勤務時間]"
   ]
  }
 ],
 "metadata": {
  "kernelspec": {
   "display_name": "Python 3.9.15 64-bit",
   "language": "python",
   "name": "python3"
  },
  "language_info": {
   "codemirror_mode": {
    "name": "ipython",
    "version": 3
   },
   "file_extension": ".py",
   "mimetype": "text/x-python",
   "name": "python",
   "nbconvert_exporter": "python",
   "pygments_lexer": "ipython3",
   "version": "3.9.15"
  },
  "orig_nbformat": 4,
  "vscode": {
   "interpreter": {
    "hash": "397704579725e15f5c7cb49fe5f0341eb7531c82d19f2c29d197e8b64ab5776b"
   }
  }
 },
 "nbformat": 4,
 "nbformat_minor": 2
}
